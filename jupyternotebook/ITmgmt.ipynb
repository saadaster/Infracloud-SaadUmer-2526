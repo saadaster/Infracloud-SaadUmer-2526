{
 "cells": [
  {
   "cell_type": "code",
   "execution_count": 6,
   "id": "63579271-b9e6-44ea-91d7-b9214e0ea7a3",
   "metadata": {},
   "outputs": [
    {
     "name": "stdout",
     "output_type": "stream",
     "text": [
      "<HTML><HEAD><meta http-equiv=\"content-type\" content=\"text/html;charset=utf-8\">\n",
      "<TITLE>301 Moved</TITLE></HEAD><BODY>\n",
      "<H1>301 Moved</H1>\n",
      "The document has moved\n",
      "<A HREF=\"http://www.biasc.be\">here</A>.\n",
      "</BODY></HTML>\n"
     ]
    },
    {
     "name": "stderr",
     "output_type": "stream",
     "text": [
      "  % Total    % Received % Xferd  Average Speed   Time    Time     Time  Current\n",
      "                                 Dload  Upload   Total   Spent    Left  Speed\n",
      "\n",
      "  0     0    0     0    0     0      0      0 --:--:-- --:--:-- --:--:--     0\n",
      "100   216  100   216    0     0   2386      0 --:--:-- --:--:-- --:--:--  2426\n"
     ]
    }
   ],
   "source": [
    "!curl http://biasc.be"
   ]
  },
  {
   "cell_type": "code",
   "execution_count": 4,
   "id": "84483b6b-5842-4619-ba3c-e21168e8b379",
   "metadata": {},
   "outputs": [
    {
     "ename": "SyntaxError",
     "evalue": "invalid syntax (2077335491.py, line 1)",
     "output_type": "error",
     "traceback": [
      "\u001b[1;36m  Cell \u001b[1;32mIn[4], line 1\u001b[1;36m\u001b[0m\n\u001b[1;33m    curl http://sites.google.com/view/saadcloud/home?authuser=4\u001b[0m\n\u001b[1;37m         ^\u001b[0m\n\u001b[1;31mSyntaxError\u001b[0m\u001b[1;31m:\u001b[0m invalid syntax\n"
     ]
    }
   ],
   "source": [
    "curl http://sites.google.com/view/saadcloud/home?authuser=4"
   ]
  },
  {
   "cell_type": "code",
   "execution_count": 5,
   "id": "b28281ac-474d-468f-a5f9-6c75176f595e",
   "metadata": {
    "scrolled": true
   },
   "outputs": [
    {
     "name": "stderr",
     "output_type": "stream",
     "text": [
      "  % Total    % Received % Xferd  Average Speed   Time    Time     Time  Current\n",
      "                                 Dload  Upload   Total   Spent    Left  Speed\n",
      "\n",
      "  0     0    0     0    0     0      0      0 --:--:-- --:--:-- --:--:--     0\n",
      "  0     0    0     0    0     0      0      0 --:--:-- --:--:-- --:--:--     0\n"
     ]
    }
   ],
   "source": [
    "!curl http://sites.google.com/view/saadcloud/home?authuser=4"
   ]
  },
  {
   "cell_type": "code",
   "execution_count": 7,
   "id": "83e8682b-98f6-4285-95fd-fa61e4b9717a",
   "metadata": {},
   "outputs": [
    {
     "name": "stderr",
     "output_type": "stream",
     "text": [
      "  % Total    % Received % Xferd  Average Speed   Time    Time     Time  Current\n",
      "                                 Dload  Upload   Total   Spent    Left  Speed\n",
      "\n",
      "  0     0    0     0    0     0      0      0 --:--:-- --:--:-- --:--:--     0\n",
      "  0     0    0     0    0     0      0      0 --:--:-- --:--:-- --:--:--     0\n"
     ]
    }
   ],
   "source": [
    "!curl http://www.biasc.be"
   ]
  },
  {
   "cell_type": "code",
   "execution_count": 9,
   "id": "747a283b-d4fb-44ed-aae6-e5b68eca6f21",
   "metadata": {},
   "outputs": [
    {
     "name": "stderr",
     "output_type": "stream",
     "text": [
      "  % Total    % Received % Xferd  Average Speed   Time    Time     Time  Current\n",
      "                                 Dload  Upload   Total   Spent    Left  Speed\n",
      "\n",
      "  0     0    0     0    0     0      0      0 --:--:-- --:--:-- --:--:--     0\n",
      "  0     0    0     0    0     0      0      0 --:--:-- --:--:-- --:--:--     0\n",
      "  0     0    0     0    0     0      0      0 --:--:--  0:00:01 --:--:--     0curl: (5) Could not resolve proxy: GET\n"
     ]
    }
   ],
   "source": [
    "!curl -x GET http://www.biasc.be"
   ]
  },
  {
   "cell_type": "code",
   "execution_count": 17,
   "id": "ed142db5-e618-4a79-8af0-d2b201030781",
   "metadata": {},
   "outputs": [
    {
     "name": "stdout",
     "output_type": "stream",
     "text": [
      "{\n",
      "  \"cpu\": {\n",
      "    \"platform\": \"Windows-11-10.0.22631-SP0\",\n",
      "    \"processor\": \"AMD64 Family 25 Model 117 Stepping 2, AuthenticAMD\",\n",
      "    \"physical_cores\": 8,\n",
      "    \"logical_processors\": 16\n",
      "  }\n",
      "}\n"
     ]
    }
   ],
   "source": [
    "#collect_sysinfo_cpu_mem.py\n",
    "import json\n",
    "import psutil\n",
    "import platform\n",
    "import socket\n",
    "\n",
    "def collect_system_info():\n",
    "    data ={}\n",
    "    # CPU info\n",
    "    data [\"cpu\"] = {\n",
    "        \"platform\": platform.platform(),\n",
    "        \"processor\": platform.processor(),\n",
    "        \"physical_cores\": psutil.cpu_count(logical=False),\n",
    "        \"logical_processors\": psutil.cpu_count(logical=True),\n",
    "\n",
    "    }\n",
    "    return data\n",
    "\n",
    "if __name__ == \"__main__\":\n",
    "    info = collect_system_info()\n",
    "    # JSON output\n",
    "    print(json.dumps(info, indent=2))\n",
    "    \n",
    "        "
   ]
  },
  {
   "cell_type": "code",
   "execution_count": 19,
   "id": "49d6e105-aadc-4e79-bb44-26463384f45a",
   "metadata": {},
   "outputs": [
    {
     "name": "stdout",
     "output_type": "stream",
     "text": [
      "Current date and time: \n",
      "2025-10-01 14:49:39.532293\n"
     ]
    }
   ],
   "source": [
    "#pip install datetime\n",
    "import datetime\n",
    "print(\"Current date and time: \")\n",
    "print(datetime.datetime.now())\n",
    "\n"
   ]
  },
  {
   "cell_type": "code",
   "execution_count": 20,
   "id": "2eaa9b1e-6cf0-4073-9cfc-f61bcad96923",
   "metadata": {},
   "outputs": [
    {
     "name": "stdout",
     "output_type": "stream",
     "text": [
      "Creating ... GROUP_YRO_A\n",
      "Creating ... GROUP_YRO_B\n",
      "Creating ... GROUP_YRO_C\n"
     ]
    }
   ],
   "source": [
    "import requests \n",
    "import json \n",
    "### Access Token 12 hours: https://developer.webex.com/docs/api/getting-started (login required)\n",
    "access_token = \"OGYxYzRhM2EtMWQ0Ni00ODYyLThkYWItMDJhMWQ1NzM3YWMxNzU1ZmJlNDYtZDU5_P0A1_71b6b34c-abff-4407-ac50-5e62323aed80\"\n",
    "\n",
    "groups_struc = {\n",
    " \"groups\": [\n",
    "      { \"group\": { \"group_id\": \"G1\" , \"group_name\": \"GROUP_YRO_A\" ,    \n",
    "                   \"members\": [   \n",
    "                     {\"person_id\": \"P-1\" , \"person_name\": \"Nick\", \"email\": \"nick@biasc.be\"},\n",
    "                     {\"person_id\": \"P-2\" , \"person_name\": \"Marcus\", \"email\": \"marcus@biasc.be\"},\n",
    "                     {\"person_id\": \"P-3\" , \"person_name\": \"Lisa\", \"email\": \"lisa@biasc.be\"} \n",
    "                   ]\n",
    "                 }\n",
    "      },\n",
    "      { \"group\": { \"group_id\": \"G2\" , \"group_name\": \"GROUP_YRO_B\" ,    \n",
    "                   \"members\": [   \n",
    "                     {\"person_id\": \"P-4\" ,\"person_name\": \"Martin\", \"email\": \"martin@biasc.be\"}, \n",
    "                     {\"person_id\": \"P-5\" ,\"person_name\": \"Bob\", \"email\": \"bob@biasc.be\"}, \n",
    "                     {\"person_id\": \"P-6\" ,\"person_name\": \"Alice\", \"email\": \"alice@biasc.be\"} \n",
    "                   ]     \n",
    "                 }\n",
    "      },\n",
    "      { \"group\": { \"group_id\": \"G3\" , \"group_name\": \"GROUP_YRO_C\" ,    \n",
    "                   \"members\": [   \n",
    "                     {\"person_id\": \"P-7\" ,\"person_name\": \"Matt\", \"email\": \"matt@biasc.be\"}, \n",
    "                     {\"person_id\": \"P-8\" ,\"person_name\": \"Lucas\", \"email\": \"lucas@biasc.be\"}, \n",
    "                     {\"person_id\": \"P-9\" ,\"person_name\": \"Elsa\", \"email\": \"elsa@biasc.be\"} \n",
    "                   ] \n",
    "                 }\n",
    "      }\n",
    "   ]\n",
    "}\n",
    "\n",
    "url = 'https://api.ciscospark.com/v1/rooms'\n",
    "\n",
    "headers = {'Authorization': 'Bearer {}'.format(access_token),'Content-Type': 'application/json' }\n",
    "for rec in groups_struc[\"groups\"]:\n",
    "    create_group_name = rec[\"group\"][\"group_name\"]\n",
    "    print(\"Creating ... \" + create_group_name)\n",
    "    payload_space={\"title\": create_group_name}\n",
    "    res_space = requests.post(url, headers=headers, json=payload_space)\n",
    "\n",
    "    NEW_SPACE_ID = res_space.json()[\"id\"]\n",
    "    for mbr in rec[\"group\"][\"members\"]:\n",
    "        room_id = NEW_SPACE_ID\n",
    "        person_email = mbr[\"email\"] \n",
    "        url2 = 'https://api.ciscospark.com/v1/memberships'\n",
    "        payload_member = {'roomId': room_id, 'personEmail': person_email}\n",
    "        res_member = requests.post(url2, headers=headers, json=payload_member)"
   ]
  },
  {
   "cell_type": "code",
   "execution_count": null,
   "id": "57595407-c158-46a7-bb49-e9c4d39a5635",
   "metadata": {},
   "outputs": [],
   "source": []
  }
 ],
 "metadata": {
  "kernelspec": {
   "display_name": "Python 3 (ipykernel)",
   "language": "python",
   "name": "python3"
  },
  "language_info": {
   "codemirror_mode": {
    "name": "ipython",
    "version": 3
   },
   "file_extension": ".py",
   "mimetype": "text/x-python",
   "name": "python",
   "nbconvert_exporter": "python",
   "pygments_lexer": "ipython3",
   "version": "3.13.5"
  }
 },
 "nbformat": 4,
 "nbformat_minor": 5
}
